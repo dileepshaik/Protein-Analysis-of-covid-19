{
 "cells": [
  {
   "cell_type": "code",
   "execution_count": 1,
   "metadata": {},
   "outputs": [],
   "source": [
    "from Bio import SeqIO"
   ]
  },
  {
   "cell_type": "code",
   "execution_count": 3,
   "metadata": {},
   "outputs": [],
   "source": [
    "covid = SeqIO.read(\"Downloads/sequence.fasta\",\"fasta\")"
   ]
  },
  {
   "cell_type": "code",
   "execution_count": 4,
   "metadata": {},
   "outputs": [
    {
     "data": {
      "text/plain": [
       "SeqRecord(seq=Seq('ATACCTTCCCAGGTAACAAACCAACCAACTTTCGATCTCTTGTAGATCTGTTCT...AAA', SingleLetterAlphabet()), id='MT295464.1', name='MT295464.1', description='MT295464.1 Severe acute respiratory syndrome coronavirus 2 isolate SARS CoV-2/human/USA/UF-1/2020, complete genome', dbxrefs=[])"
      ]
     },
     "execution_count": 4,
     "metadata": {},
     "output_type": "execute_result"
    }
   ],
   "source": [
    "covid"
   ]
  },
  {
   "cell_type": "code",
   "execution_count": 5,
   "metadata": {},
   "outputs": [],
   "source": [
    "# Convert or Get the sequences\n",
    "covid_seq = covid.seq"
   ]
  },
  {
   "cell_type": "code",
   "execution_count": 6,
   "metadata": {},
   "outputs": [
    {
     "name": "stdout",
     "output_type": "stream",
     "text": [
      "covid_seq :: 29892\n"
     ]
    }
   ],
   "source": [
    "# Check the length of each sequence\n",
    "print(\"covid_seq ::\",len(covid_seq))"
   ]
  },
  {
   "cell_type": "code",
   "execution_count": 8,
   "metadata": {},
   "outputs": [],
   "source": [
    "from Bio.SeqUtils import GC"
   ]
  },
  {
   "cell_type": "code",
   "execution_count": 9,
   "metadata": {
    "scrolled": true
   },
   "outputs": [
    {
     "name": "stdout",
     "output_type": "stream",
     "text": [
      "GC content of covid_seq :: 37.976716178241674\n"
     ]
    }
   ],
   "source": [
    "# Check the length of each sequence\n",
    "print(\"GC content of covid_seq ::\",GC(covid_seq))"
   ]
  },
  {
   "cell_type": "code",
   "execution_count": 11,
   "metadata": {},
   "outputs": [],
   "source": [
    "covid_protein = covid_seq.translate()\n"
   ]
  },
  {
   "cell_type": "code",
   "execution_count": 12,
   "metadata": {},
   "outputs": [
    {
     "name": "stdout",
     "output_type": "stream",
     "text": [
      "covid_protein :: 9964\n"
     ]
    }
   ],
   "source": [
    "print(\"covid_protein ::\",len(covid_protein))"
   ]
  },
  {
   "cell_type": "code",
   "execution_count": null,
   "metadata": {},
   "outputs": [],
   "source": [
    "#Check for the Count of Amino Acids\n",
    "            . ProtParam.ProteinAnalysis\n",
    "            . Counter from collections"
   ]
  },
  {
   "cell_type": "code",
   "execution_count": 13,
   "metadata": {},
   "outputs": [],
   "source": [
    "from Bio.SeqUtils.ProtParam import ProteinAnalysis"
   ]
  },
  {
   "cell_type": "code",
   "execution_count": 14,
   "metadata": {},
   "outputs": [],
   "source": [
    "covid_analysed = ProteinAnalysis(str(covid_protein))"
   ]
  },
  {
   "cell_type": "code",
   "execution_count": 15,
   "metadata": {},
   "outputs": [
    {
     "data": {
      "text/plain": [
       "{'A': 259,\n",
       " 'C': 472,\n",
       " 'D': 134,\n",
       " 'E': 193,\n",
       " 'F': 457,\n",
       " 'G': 231,\n",
       " 'H': 367,\n",
       " 'I': 580,\n",
       " 'K': 531,\n",
       " 'L': 1640,\n",
       " 'M': 298,\n",
       " 'N': 399,\n",
       " 'P': 261,\n",
       " 'Q': 407,\n",
       " 'R': 462,\n",
       " 'S': 705,\n",
       " 'T': 622,\n",
       " 'V': 677,\n",
       " 'W': 192,\n",
       " 'Y': 331}"
      ]
     },
     "execution_count": 15,
     "metadata": {},
     "output_type": "execute_result"
    }
   ],
   "source": [
    "# Check for the Frequence of AA\n",
    "covid_analysed.count_amino_acids()"
   ]
  },
  {
   "cell_type": "code",
   "execution_count": 17,
   "metadata": {},
   "outputs": [],
   "source": [
    "# Method 2\n",
    "# What the freq of Amino Acids\n",
    "from collections import Counter"
   ]
  },
  {
   "cell_type": "code",
   "execution_count": 23,
   "metadata": {},
   "outputs": [],
   "source": [
    "#most common aminoacid \n",
    "covid_freq = Counter(covid_protein)"
   ]
  },
  {
   "cell_type": "code",
   "execution_count": 24,
   "metadata": {},
   "outputs": [
    {
     "data": {
      "text/plain": [
       "Counter({'I': 580,\n",
       "         'P': 261,\n",
       "         'S': 705,\n",
       "         'Q': 407,\n",
       "         'V': 677,\n",
       "         'T': 622,\n",
       "         'N': 399,\n",
       "         'F': 457,\n",
       "         'D': 134,\n",
       "         'L': 1640,\n",
       "         '*': 746,\n",
       "         'C': 472,\n",
       "         'E': 193,\n",
       "         'G': 231,\n",
       "         'H': 367,\n",
       "         'A': 259,\n",
       "         'R': 462,\n",
       "         'Y': 331,\n",
       "         'K': 531,\n",
       "         'W': 192,\n",
       "         'M': 298})"
      ]
     },
     "execution_count": 24,
     "metadata": {},
     "output_type": "execute_result"
    }
   ],
   "source": [
    "covid_freq"
   ]
  },
  {
   "cell_type": "code",
   "execution_count": 25,
   "metadata": {},
   "outputs": [
    {
     "data": {
      "text/plain": [
       "[('L', 1640),\n",
       " ('*', 746),\n",
       " ('S', 705),\n",
       " ('V', 677),\n",
       " ('T', 622),\n",
       " ('I', 580),\n",
       " ('K', 531),\n",
       " ('C', 472),\n",
       " ('R', 462),\n",
       " ('F', 457)]"
      ]
     },
     "execution_count": 25,
     "metadata": {},
     "output_type": "execute_result"
    }
   ],
   "source": [
    "#most common aminoacid \n",
    "Counter(covid_protein).most_common(10)"
   ]
  },
  {
   "cell_type": "code",
   "execution_count": 27,
   "metadata": {},
   "outputs": [],
   "source": [
    "import matplotlib.pyplot as plt\n",
    "import numpy as np "
   ]
  },
  {
   "cell_type": "code",
   "execution_count": 28,
   "metadata": {},
   "outputs": [
    {
     "data": {
      "text/plain": [
       "<BarContainer object of 21 artists>"
      ]
     },
     "execution_count": 28,
     "metadata": {},
     "output_type": "execute_result"
    },
    {
     "data": {
      "image/png": "[encoded data removed]",
      "text/plain": [
       "<Figure size 432x288 with 1 Axes>"
      ]
     },
     "metadata": {
      "needs_background": "light"
     },
     "output_type": "display_data"
    }
   ],
   "source": [
    "# Plot the Amino Acids\n",
    "plt.bar(covid_freq.keys(), covid_freq.values())"
   ]
  }
 ],
 "metadata": {
  "kernelspec": {
   "display_name": "Python 3",
   "language": "python",
   "name": "python3"
  },
  "language_info": {
   "codemirror_mode": {
    "name": "ipython",
    "version": 3
   },
   "file_extension": ".py",
   "mimetype": "text/x-python",
   "name": "python",
   "nbconvert_exporter": "python",
   "pygments_lexer": "ipython3",
   "version": "3.7.0"
  }
 },
 "nbformat": 4,
 "nbformat_minor": 2
}
